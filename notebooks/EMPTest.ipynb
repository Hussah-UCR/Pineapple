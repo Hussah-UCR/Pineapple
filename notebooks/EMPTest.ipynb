{
 "cells": [
  {
   "cell_type": "code",
   "execution_count": 1,
   "id": "a2ad2085",
   "metadata": {},
   "outputs": [],
   "source": [
    "import regionalization.emp as emp\n",
    "import weight.rook as rook\n",
    "import libpysal \n",
    "import time\n",
    "from libpysal.weights import Queen, Rook, KNN, Kernel, DistanceBand\n",
    "import numpy as np\n",
    "import geopandas\n",
    "import pandas\n",
    "import matplotlib.pyplot as plt\n",
    "import jpype\n",
    "from jpype import java\n",
    "from jpype import javax"
   ]
  },
  {
   "cell_type": "code",
   "execution_count": 2,
   "id": "23735873",
   "metadata": {},
   "outputs": [],
   "source": [
    "path = \"C:/Users/50476/Documents/GitHub/Pineapple/Pineapple/JAVA/data/LACity/LACity.shp\"\n",
    "df = geopandas.read_file(path)\n"
   ]
  },
  {
   "cell_type": "code",
   "execution_count": 3,
   "id": "7a357186",
   "metadata": {},
   "outputs": [],
   "source": [
    "jpype.startJVM(\"-Xmx20480m\", classpath = [\"./Pineapple.jar\"])"
   ]
  },
  {
   "cell_type": "code",
   "execution_count": 4,
   "id": "3b08bb1a",
   "metadata": {},
   "outputs": [],
   "source": [
    "w = rook.from_dataframe(df)"
   ]
  },
  {
   "cell_type": "code",
   "execution_count": 10,
   "id": "6e0182eb",
   "metadata": {},
   "outputs": [
    {
     "ename": "java.lang.NullPointerException",
     "evalue": "java.lang.NullPointerException",
     "output_type": "error",
     "traceback": [
      "\u001b[1;31m---------------------------------------------------------------------------\u001b[0m",
      "\u001b[1;31mException\u001b[0m                                 Traceback (most recent call last)",
      "\u001b[1;32m~\\anaconda3\\lib\\site-packages\\_jpype.cp39-win_amd64.pyd\u001b[0m in \u001b[0;36medu.ucr.cs.pineapple.regionalization.EMP.execute_regionalization\u001b[1;34m()\u001b[0m\n",
      "\u001b[1;31mException\u001b[0m: Java Exception",
      "\nThe above exception was the direct cause of the following exception:\n",
      "\u001b[1;31mjava.lang.NullPointerException\u001b[0m            Traceback (most recent call last)",
      "\u001b[1;32m~\\AppData\\Local\\Temp/ipykernel_26744/3312985927.py\u001b[0m in \u001b[0;36m<module>\u001b[1;34m\u001b[0m\n\u001b[0;32m      1\u001b[0m \u001b[0minf\u001b[0m \u001b[1;33m=\u001b[0m \u001b[0mjava\u001b[0m\u001b[1;33m.\u001b[0m\u001b[0mlang\u001b[0m\u001b[1;33m.\u001b[0m\u001b[0mDouble\u001b[0m\u001b[1;33m.\u001b[0m\u001b[0mPOSITIVE_INFINITY\u001b[0m\u001b[1;33m\u001b[0m\u001b[1;33m\u001b[0m\u001b[0m\n\u001b[1;32m----> 2\u001b[1;33m \u001b[0mp\u001b[0m\u001b[1;33m,\u001b[0m \u001b[0mregions\u001b[0m \u001b[1;33m=\u001b[0m \u001b[0memp\u001b[0m\u001b[1;33m.\u001b[0m\u001b[0memp\u001b[0m\u001b[1;33m(\u001b[0m\u001b[0mdf\u001b[0m\u001b[1;33m,\u001b[0m \u001b[0mw\u001b[0m\u001b[1;33m,\u001b[0m \u001b[1;34m'households'\u001b[0m\u001b[1;33m,\u001b[0m \u001b[1;34m'pop_16up'\u001b[0m\u001b[1;33m,\u001b[0m \u001b[1;33m-\u001b[0m\u001b[0minf\u001b[0m\u001b[1;33m,\u001b[0m \u001b[0minf\u001b[0m\u001b[1;33m,\u001b[0m \u001b[1;34m'pop_16up'\u001b[0m\u001b[1;33m,\u001b[0m \u001b[1;33m-\u001b[0m\u001b[0minf\u001b[0m\u001b[1;33m,\u001b[0m \u001b[0minf\u001b[0m\u001b[1;33m,\u001b[0m \u001b[1;34m'pop_16up'\u001b[0m\u001b[1;33m,\u001b[0m \u001b[1;33m-\u001b[0m\u001b[0minf\u001b[0m\u001b[1;33m,\u001b[0m \u001b[0minf\u001b[0m\u001b[1;33m,\u001b[0m \u001b[1;34m'pop_16up'\u001b[0m\u001b[1;33m,\u001b[0m \u001b[1;36m200000000.0\u001b[0m\u001b[1;33m,\u001b[0m \u001b[0minf\u001b[0m\u001b[1;33m,\u001b[0m \u001b[1;33m-\u001b[0m\u001b[0minf\u001b[0m\u001b[1;33m,\u001b[0m \u001b[0minf\u001b[0m\u001b[1;33m)\u001b[0m\u001b[1;33m\u001b[0m\u001b[1;33m\u001b[0m\u001b[0m\n\u001b[0m",
      "\u001b[1;32m~\\Documents\\GitHub\\Pineapple\\Pineapple\\notebooks\\regionalization\\emp.py\u001b[0m in \u001b[0;36memp\u001b[1;34m(df, w, disName, minName, minLow, minHigh, maxName, maxLow, maxHigh, avgName, avgLow, avgHigh, sumName, sumLow, sumHigh, countLow, countHigh)\u001b[0m\n\u001b[0;32m     97\u001b[0m     \u001b[1;32mfor\u001b[0m \u001b[0mi\u001b[0m \u001b[1;32min\u001b[0m \u001b[0mrange\u001b[0m\u001b[1;33m(\u001b[0m\u001b[1;36m0\u001b[0m\u001b[1;33m,\u001b[0m \u001b[0mdf\u001b[0m\u001b[1;33m.\u001b[0m\u001b[0mshape\u001b[0m\u001b[1;33m[\u001b[0m\u001b[1;36m0\u001b[0m\u001b[1;33m]\u001b[0m\u001b[1;33m)\u001b[0m\u001b[1;33m:\u001b[0m\u001b[1;33m\u001b[0m\u001b[1;33m\u001b[0m\u001b[0m\n\u001b[0;32m     98\u001b[0m         \u001b[0midList\u001b[0m\u001b[1;33m.\u001b[0m\u001b[0madd\u001b[0m\u001b[1;33m(\u001b[0m\u001b[0mjpype\u001b[0m\u001b[1;33m.\u001b[0m\u001b[0mJInt\u001b[0m\u001b[1;33m(\u001b[0m\u001b[0mi\u001b[0m\u001b[1;33m)\u001b[0m\u001b[1;33m)\u001b[0m\u001b[1;33m\u001b[0m\u001b[1;33m\u001b[0m\u001b[0m\n\u001b[1;32m---> 99\u001b[1;33m     \u001b[0mEMP\u001b[0m\u001b[1;33m.\u001b[0m\u001b[0mexecute_regionalization\u001b[0m\u001b[1;33m(\u001b[0m\u001b[0mneighborHashMap\u001b[0m\u001b[1;33m,\u001b[0m \u001b[0mdisAttr\u001b[0m\u001b[1;33m,\u001b[0m \u001b[0mminAttr\u001b[0m\u001b[1;33m,\u001b[0m\u001b[0mminLow\u001b[0m\u001b[1;33m,\u001b[0m \u001b[0mminHigh\u001b[0m\u001b[1;33m,\u001b[0m \u001b[0mmaxAttr\u001b[0m\u001b[1;33m,\u001b[0m \u001b[0mmaxLow\u001b[0m\u001b[1;33m,\u001b[0m \u001b[0mmaxHigh\u001b[0m\u001b[1;33m,\u001b[0m \u001b[0mavgAttr\u001b[0m\u001b[1;33m,\u001b[0m \u001b[0mavgLow\u001b[0m\u001b[1;33m,\u001b[0m \u001b[0mavgHigh\u001b[0m\u001b[1;33m,\u001b[0m \u001b[0msumAttr\u001b[0m\u001b[1;33m,\u001b[0m \u001b[0msumLow\u001b[0m\u001b[1;33m,\u001b[0m \u001b[0msumHigh\u001b[0m\u001b[1;33m,\u001b[0m \u001b[0mcountLow\u001b[0m\u001b[1;33m,\u001b[0m \u001b[0mcountHigh\u001b[0m\u001b[1;33m)\u001b[0m\u001b[1;33m\u001b[0m\u001b[1;33m\u001b[0m\u001b[0m\n\u001b[0m\u001b[0;32m    100\u001b[0m \u001b[1;33m\u001b[0m\u001b[0m\n\u001b[0;32m    101\u001b[0m     \u001b[1;32mreturn\u001b[0m \u001b[0mEMP\u001b[0m\u001b[1;33m.\u001b[0m\u001b[0mgetP\u001b[0m\u001b[1;33m(\u001b[0m\u001b[1;33m)\u001b[0m\u001b[1;33m,\u001b[0m \u001b[0mnp\u001b[0m\u001b[1;33m.\u001b[0m\u001b[0marray\u001b[0m\u001b[1;33m(\u001b[0m\u001b[0mEMP\u001b[0m\u001b[1;33m.\u001b[0m\u001b[0mgetRegionList\u001b[0m\u001b[1;33m(\u001b[0m\u001b[1;33m)\u001b[0m\u001b[1;33m)\u001b[0m\u001b[1;33m\u001b[0m\u001b[1;33m\u001b[0m\u001b[0m\n",
      "\u001b[1;31mjava.lang.NullPointerException\u001b[0m: java.lang.NullPointerException"
     ]
    }
   ],
   "source": [
    "inf = java.lang.Double.POSITIVE_INFINITY\n",
    "p, regions = emp.emp(df, w, 'households', 'pop_16up', -inf, inf, 'pop_16up', -inf, inf, 'pop_16up', -inf, inf, 'pop_16up', 200000000.0, inf, -inf, inf) "
   ]
  },
  {
   "cell_type": "code",
   "execution_count": null,
   "id": "a91edf25",
   "metadata": {},
   "outputs": [],
   "source": [
    "p"
   ]
  },
  {
   "cell_type": "code",
   "execution_count": 7,
   "id": "892f9b41",
   "metadata": {},
   "outputs": [
    {
     "data": {
      "text/plain": [
       "array([ 64,  64,  64, ..., 992, 985, 997], dtype=int32)"
      ]
     },
     "execution_count": 7,
     "metadata": {},
     "output_type": "execute_result"
    }
   ],
   "source": [
    "regions"
   ]
  },
  {
   "cell_type": "code",
   "execution_count": null,
   "id": "66bbcfa5",
   "metadata": {},
   "outputs": [],
   "source": []
  }
 ],
 "metadata": {
  "kernelspec": {
   "display_name": "Python 3 (ipykernel)",
   "language": "python",
   "name": "python3"
  },
  "language_info": {
   "codemirror_mode": {
    "name": "ipython",
    "version": 3
   },
   "file_extension": ".py",
   "mimetype": "text/x-python",
   "name": "python",
   "nbconvert_exporter": "python",
   "pygments_lexer": "ipython3",
   "version": "3.9.7"
  }
 },
 "nbformat": 4,
 "nbformat_minor": 5
}
