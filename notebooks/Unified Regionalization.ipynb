{
 "cells": [
  {
   "cell_type": "code",
   "execution_count": 3,
   "id": "64a42dd3",
   "metadata": {},
   "outputs": [],
   "source": [
    "import pyneapple.regionalization.maxp as maxp\n",
    "import pyneapple.weight.rook as rook\n",
    "import libpysal \n",
    "import time\n",
    "from libpysal.weights import Queen, Rook, KNN, Kernel, DistanceBand\n",
    "import numpy as np\n",
    "import geopandas\n",
    "import pandas\n",
    "import matplotlib.pyplot as plt\n",
    "import jpype\n",
    "from jpype import java\n",
    "from jpype import javax\n",
    "import math"
   ]
  },
  {
   "cell_type": "code",
   "execution_count": 2,
   "id": "df9c6bf6",
   "metadata": {},
   "outputs": [
    {
     "name": "stdout",
     "output_type": "stream",
     "text": [
      "Collecting spopt\n",
      "  Downloading spopt-0.5.0-py3-none-any.whl (112 kB)\n",
      "\u001b[2K     \u001b[90m━━━━━━━━━━━━━━━━━━━━━━━━━━━━━━━━━━━━━\u001b[0m \u001b[32m112.9/112.9 kB\u001b[0m \u001b[31m198.0 kB/s\u001b[0m eta \u001b[36m0:00:00\u001b[0ma \u001b[36m0:00:01\u001b[0m\n",
      "\u001b[?25hRequirement already satisfied: numpy>=1.21 in /Users/yfkang/anaconda3/lib/python3.10/site-packages (from spopt) (1.23.5)\n",
      "Collecting pulp\n",
      "  Downloading PuLP-2.7.0-py3-none-any.whl (14.3 MB)\n",
      "\u001b[2K     \u001b[90m━━━━━━━━━━━━━━━━━━━━━━━━━━━━━━━━━━━━━━━━\u001b[0m \u001b[32m14.3/14.3 MB\u001b[0m \u001b[31m4.6 MB/s\u001b[0m eta \u001b[36m0:00:00\u001b[0m00:01\u001b[0m00:01\u001b[0mm\n",
      "\u001b[?25hRequirement already satisfied: tqdm>=4.27.0 in /Users/yfkang/anaconda3/lib/python3.10/site-packages (from spopt) (4.64.1)\n",
      "Requirement already satisfied: geopandas>=0.10.0 in /Users/yfkang/anaconda3/lib/python3.10/site-packages (from spopt) (0.13.2)\n",
      "Requirement already satisfied: libpysal in /Users/yfkang/anaconda3/lib/python3.10/site-packages (from spopt) (4.7.0)\n",
      "Requirement already satisfied: scikit-learn>=0.22 in /Users/yfkang/anaconda3/lib/python3.10/site-packages (from spopt) (1.2.1)\n",
      "Requirement already satisfied: networkx in /Users/yfkang/anaconda3/lib/python3.10/site-packages (from spopt) (2.8.4)\n",
      "Requirement already satisfied: scipy>=1.3.2 in /Users/yfkang/anaconda3/lib/python3.10/site-packages (from spopt) (1.10.0)\n",
      "Collecting spaghetti\n",
      "  Downloading spaghetti-1.7.4-py3-none-any.whl (50 kB)\n",
      "\u001b[2K     \u001b[90m━━━━━━━━━━━━━━━━━━━━━━━━━━━━━━━━━━━━━━━━\u001b[0m \u001b[32m50.1/50.1 kB\u001b[0m \u001b[31m4.1 MB/s\u001b[0m eta \u001b[36m0:00:00\u001b[0m\n",
      "\u001b[?25hRequirement already satisfied: pandas>=1.0.5 in /Users/yfkang/anaconda3/lib/python3.10/site-packages (from spopt) (1.5.3)\n",
      "Requirement already satisfied: packaging in /Users/yfkang/anaconda3/lib/python3.10/site-packages (from geopandas>=0.10.0->spopt) (22.0)\n",
      "Requirement already satisfied: pyproj>=3.0.1 in /Users/yfkang/anaconda3/lib/python3.10/site-packages (from geopandas>=0.10.0->spopt) (3.6.0)\n",
      "Requirement already satisfied: shapely>=1.7.1 in /Users/yfkang/anaconda3/lib/python3.10/site-packages (from geopandas>=0.10.0->spopt) (2.0.1)\n",
      "Requirement already satisfied: fiona>=1.8.19 in /Users/yfkang/anaconda3/lib/python3.10/site-packages (from geopandas>=0.10.0->spopt) (1.9.4.post1)\n",
      "Requirement already satisfied: python-dateutil>=2.8.1 in /Users/yfkang/anaconda3/lib/python3.10/site-packages (from pandas>=1.0.5->spopt) (2.8.2)\n",
      "Requirement already satisfied: pytz>=2020.1 in /Users/yfkang/anaconda3/lib/python3.10/site-packages (from pandas>=1.0.5->spopt) (2022.7)\n",
      "Requirement already satisfied: threadpoolctl>=2.0.0 in /Users/yfkang/anaconda3/lib/python3.10/site-packages (from scikit-learn>=0.22->spopt) (2.2.0)\n",
      "Requirement already satisfied: joblib>=1.1.1 in /Users/yfkang/anaconda3/lib/python3.10/site-packages (from scikit-learn>=0.22->spopt) (1.1.1)\n",
      "Requirement already satisfied: platformdirs in /Users/yfkang/anaconda3/lib/python3.10/site-packages (from libpysal->spopt) (2.5.2)\n",
      "Requirement already satisfied: requests in /Users/yfkang/anaconda3/lib/python3.10/site-packages (from libpysal->spopt) (2.28.1)\n",
      "Requirement already satisfied: jinja2 in /Users/yfkang/anaconda3/lib/python3.10/site-packages (from libpysal->spopt) (3.1.2)\n",
      "Requirement already satisfied: beautifulsoup4 in /Users/yfkang/anaconda3/lib/python3.10/site-packages (from libpysal->spopt) (4.11.1)\n",
      "Collecting esda\n",
      "  Downloading esda-2.4.3.tar.gz (116 kB)\n",
      "\u001b[2K     \u001b[90m━━━━━━━━━━━━━━━━━━━━━━━━━━━━━━━━━━━━━━━\u001b[0m \u001b[32m116.6/116.6 kB\u001b[0m \u001b[31m1.3 MB/s\u001b[0m eta \u001b[36m0:00:00\u001b[0ma \u001b[36m0:00:01\u001b[0m\n",
      "\u001b[?25h  Preparing metadata (setup.py) ... \u001b[?25ldone\n",
      "\u001b[?25hRequirement already satisfied: rtree in /Users/yfkang/anaconda3/lib/python3.10/site-packages (from spaghetti->spopt) (1.0.1)\n",
      "Requirement already satisfied: attrs>=19.2.0 in /Users/yfkang/anaconda3/lib/python3.10/site-packages (from fiona>=1.8.19->geopandas>=0.10.0->spopt) (22.1.0)\n",
      "Requirement already satisfied: cligj>=0.5 in /Users/yfkang/anaconda3/lib/python3.10/site-packages (from fiona>=1.8.19->geopandas>=0.10.0->spopt) (0.7.2)\n",
      "Requirement already satisfied: certifi in /Users/yfkang/anaconda3/lib/python3.10/site-packages (from fiona>=1.8.19->geopandas>=0.10.0->spopt) (2023.5.7)\n",
      "Requirement already satisfied: six in /Users/yfkang/anaconda3/lib/python3.10/site-packages (from fiona>=1.8.19->geopandas>=0.10.0->spopt) (1.16.0)\n",
      "Requirement already satisfied: click-plugins>=1.0 in /Users/yfkang/anaconda3/lib/python3.10/site-packages (from fiona>=1.8.19->geopandas>=0.10.0->spopt) (1.1.1)\n",
      "Requirement already satisfied: click~=8.0 in /Users/yfkang/anaconda3/lib/python3.10/site-packages (from fiona>=1.8.19->geopandas>=0.10.0->spopt) (8.0.4)\n",
      "Requirement already satisfied: soupsieve>1.2 in /Users/yfkang/anaconda3/lib/python3.10/site-packages (from beautifulsoup4->libpysal->spopt) (2.3.2.post1)\n",
      "Requirement already satisfied: MarkupSafe>=2.0 in /Users/yfkang/anaconda3/lib/python3.10/site-packages (from jinja2->libpysal->spopt) (2.1.1)\n",
      "Requirement already satisfied: charset-normalizer<3,>=2 in /Users/yfkang/anaconda3/lib/python3.10/site-packages (from requests->libpysal->spopt) (2.0.4)\n",
      "Requirement already satisfied: idna<4,>=2.5 in /Users/yfkang/anaconda3/lib/python3.10/site-packages (from requests->libpysal->spopt) (3.4)\n",
      "Requirement already satisfied: urllib3<1.27,>=1.21.1 in /Users/yfkang/anaconda3/lib/python3.10/site-packages (from requests->libpysal->spopt) (1.26.14)\n",
      "Building wheels for collected packages: esda\n",
      "  Building wheel for esda (setup.py) ... \u001b[?25ldone\n",
      "\u001b[?25h  Created wheel for esda: filename=esda-2.4.3-py3-none-any.whl size=122765 sha256=849d2bfee86fb58b2ee9d09f9a406031c53714b6ffc74eacb2c4cca45943fe70\n",
      "  Stored in directory: /Users/yfkang/Library/Caches/pip/wheels/1b/92/d6/7591c8611855aed74a3fdb0f1322ccea4b4fc7c9a67494f3c6\n",
      "Successfully built esda\n",
      "Installing collected packages: pulp, esda, spaghetti, spopt\n",
      "Successfully installed esda-2.4.3 pulp-2.7.0 spaghetti-1.7.4 spopt-0.5.0\n",
      "Note: you may need to restart the kernel to use updated packages.\n"
     ]
    }
   ],
   "source": [
    "%pip install spopt"
   ]
  },
  {
   "cell_type": "code",
   "execution_count": 19,
   "id": "56c0cf74",
   "metadata": {},
   "outputs": [],
   "source": [
    "def MaxP(df, w, disName, sumName, sumLow, sumHigh = math.inf, minName = None, minLow = -math.inf, minHigh = math.inf, maxName = None, maxLow = -math.inf, maxHigh = math.inf, avgName = None, avgLow = -math.inf, avgHigh = math.inf, countLow = -math.inf, countHigh = math.inf):\n",
    "#def emp(df, w, disName, minName, minLow, minHigh, maxName, maxLow, maxHigh, avgName, avgLow, avgHigh, sumName, sumLow, sumHigh, countLow, countHigh):\n",
    "    EMP_flag = False\n",
    "    if(minLow != -float('inf') or minHigh != float('inf')):\n",
    "        if(minName == None):\n",
    "            print(\"Invalid MIN constraint!\")\n",
    "        else:\n",
    "            EMP_flag = True\n",
    "    if(maxLow != -float('inf') or maxHigh != float('inf')):\n",
    "        if(maxName == None):\n",
    "            print(\"Invalid MAX constraint!\")\n",
    "        else:\n",
    "            EMP_flag = True\n",
    "    if(avgLow != -float('inf') or maxHigh != float('inf')):\n",
    "        if(avgName == None):\n",
    "            print(\"Invalid AVG constraint!\")\n",
    "        else:\n",
    "            EMP_flag = True\n",
    "    if(EMP_flag):\n",
    "        return emp.mp(df, w, disName, minName, minLow, minHigh, maxName, maxLow, maxHigh, avgName, avgLow, avgHigh, sumName, sumLow, sumHigh, countLow, countHigh)\n",
    "    else:\n",
    "        return smp(df, w, disName, sumName, sumLow)\n",
    "\n",
    "            \n",
    "    \n"
   ]
  },
  {
   "cell_type": "code",
   "execution_count": 20,
   "id": "f68acadd",
   "metadata": {},
   "outputs": [
    {
     "name": "stdout",
     "output_type": "stream",
     "text": [
      "Invalid MIN constraint\n"
     ]
    }
   ],
   "source": [
    "MaxP(1, 2, 3, 4, 5, minLow = 1)"
   ]
  },
  {
   "cell_type": "code",
   "execution_count": 6,
   "id": "9fd4bc62",
   "metadata": {},
   "outputs": [
    {
     "data": {
      "text/plain": [
       "inf"
      ]
     },
     "execution_count": 6,
     "metadata": {},
     "output_type": "execute_result"
    }
   ],
   "source": [
    "math.inf"
   ]
  },
  {
   "cell_type": "code",
   "execution_count": 8,
   "id": "6f06460d",
   "metadata": {},
   "outputs": [
    {
     "name": "stdout",
     "output_type": "stream",
     "text": [
      "True\n"
     ]
    }
   ],
   "source": [
    "print(float('inf') == inf)"
   ]
  },
  {
   "cell_type": "code",
   "execution_count": null,
   "id": "ba6a9ab3",
   "metadata": {},
   "outputs": [],
   "source": []
  }
 ],
 "metadata": {
  "kernelspec": {
   "display_name": "Python 3 (ipykernel)",
   "language": "python",
   "name": "python3"
  },
  "language_info": {
   "codemirror_mode": {
    "name": "ipython",
    "version": 3
   },
   "file_extension": ".py",
   "mimetype": "text/x-python",
   "name": "python",
   "nbconvert_exporter": "python",
   "pygments_lexer": "ipython3",
   "version": "3.10.9"
  }
 },
 "nbformat": 4,
 "nbformat_minor": 5
}
