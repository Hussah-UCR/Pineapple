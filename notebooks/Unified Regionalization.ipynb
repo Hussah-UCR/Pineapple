{
 "cells": [
  {
   "cell_type": "code",
   "execution_count": 5,
   "id": "64a42dd3",
   "metadata": {},
   "outputs": [],
   "source": [
    "import pyneapple.regionalization.emp as emp\n",
    "import pyneapple.weight.rook as rook\n",
    "import libpysal \n",
    "import time\n",
    "from libpysal.weights import Queen, Rook, KNN, Kernel, DistanceBand\n",
    "import numpy as np\n",
    "import geopandas\n",
    "import pandas\n",
    "import matplotlib.pyplot as plt\n",
    "import jpype\n",
    "from jpype import java\n",
    "from jpype import javax\n",
    "import math"
   ]
  },
  {
   "cell_type": "code",
   "execution_count": 19,
   "id": "56c0cf74",
   "metadata": {},
   "outputs": [],
   "source": [
    "def MaxP(df, w, disName, sumName, sumLow, sumHigh = math.inf, minName = None, minLow = -math.inf, minHigh = math.inf, maxName = None, maxLow = -math.inf, maxHigh = math.inf, avgName = None, avgLow = -math.inf, avgHigh = math.inf, countLow = -math.inf, countHigh = math.inf):\n",
    "#def emp(df, w, disName, minName, minLow, minHigh, maxName, maxLow, maxHigh, avgName, avgLow, avgHigh, sumName, sumLow, sumHigh, countLow, countHigh):\n",
    "    EMP_flag = False\n",
    "    if(minLow != -float('inf') or minHigh != float('inf')):\n",
    "        if(minName == None):\n",
    "            print(\"Invalid MIN constraint!\")\n",
    "        else:\n",
    "            EMP_flag = True\n",
    "    if(maxLow != -float('inf') or maxHigh != float('inf')):\n",
    "        if(maxName == None):\n",
    "            print(\"Invalid MAX constraint!\")\n",
    "        else:\n",
    "            EMP_flag = True\n",
    "    if(avgLow != -float('inf') or maxHigh != float('inf')):\n",
    "        if(avgName == None):\n",
    "            print(\"Invalid AVG constraint!\")\n",
    "        else:\n",
    "            EMP_flag = True\n",
    "    if(EMP_flag):\n",
    "        return emp.mp(df, w, disName, minName, minLow, minHigh, maxName, maxLow, maxHigh, avgName, avgLow, avgHigh, sumName, sumLow, sumHigh, countLow, countHigh)\n",
    "    else:\n",
    "        return smp(df, w, disName, sumName, sumLow)\n",
    "\n",
    "            \n",
    "    \n"
   ]
  },
  {
   "cell_type": "code",
   "execution_count": 20,
   "id": "f68acadd",
   "metadata": {},
   "outputs": [
    {
     "name": "stdout",
     "output_type": "stream",
     "text": [
      "Invalid MIN constraint\n"
     ]
    }
   ],
   "source": [
    "MaxP(1, 2, 3, 4, 5, minLow = 1)"
   ]
  },
  {
   "cell_type": "code",
   "execution_count": 6,
   "id": "9fd4bc62",
   "metadata": {},
   "outputs": [
    {
     "data": {
      "text/plain": [
       "inf"
      ]
     },
     "execution_count": 6,
     "metadata": {},
     "output_type": "execute_result"
    }
   ],
   "source": [
    "math.inf"
   ]
  },
  {
   "cell_type": "code",
   "execution_count": 8,
   "id": "6f06460d",
   "metadata": {},
   "outputs": [
    {
     "name": "stdout",
     "output_type": "stream",
     "text": [
      "True\n"
     ]
    }
   ],
   "source": [
    "print(float('inf') == inf)"
   ]
  },
  {
   "cell_type": "code",
   "execution_count": null,
   "id": "ba6a9ab3",
   "metadata": {},
   "outputs": [],
   "source": []
  }
 ],
 "metadata": {
  "kernelspec": {
   "display_name": "Python 3 (ipykernel)",
   "language": "python",
   "name": "python3"
  },
  "language_info": {
   "codemirror_mode": {
    "name": "ipython",
    "version": 3
   },
   "file_extension": ".py",
   "mimetype": "text/x-python",
   "name": "python",
   "nbconvert_exporter": "python",
   "pygments_lexer": "ipython3",
   "version": "3.10.9"
  }
 },
 "nbformat": 4,
 "nbformat_minor": 5
}
